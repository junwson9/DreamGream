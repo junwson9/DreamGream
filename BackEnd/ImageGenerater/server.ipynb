{
  "cells": [
    {
      "cell_type": "code",
      "execution_count": null,
      "metadata": {
        "id": "6xVFYmpDsrnE"
      },
      "outputs": [],
      "source": [
        "!pip install streamlit -q\n",
        "!pip install pyngrok"
      ]
    },
    {
      "cell_type": "code",
      "execution_count": null,
      "metadata": {
        "id": "V4Xhdtw7tAYS"
      },
      "outputs": [],
      "source": [
        "!pip install fastapi uvicorn pydantic requests pyngrok nest-asyncio"
      ]
    },
    {
      "cell_type": "code",
      "execution_count": null,
      "metadata": {
        "id": "2h98_eW_2sAL"
      },
      "outputs": [],
      "source": [
        "!pip install diffusers transformers accelerate scipy safetensors"
      ]
    },
    {
      "cell_type": "code",
      "execution_count": null,
      "metadata": {
        "id": "sPBCiH4OJIZ8"
      },
      "outputs": [],
      "source": [
        "!pip install torch pillow"
      ]
    },
    {
      "cell_type": "code",
      "execution_count": null,
      "metadata": {
        "colab": {
          "base_uri": "https://localhost:8080/"
        },
        "id": "WCD7u_A8s30F",
        "outputId": "30eb4cdb-9cf6-48cd-9169-dae0d4fce859"
      },
      "outputs": [
        {
          "name": "stdout",
          "output_type": "stream",
          "text": []
        }
      ],
      "source": [
        "from pyngrok import ngrok\n",
        "\n",
        "ngrok.set_auth_token()" # 여기에 ngrok 토큰이 들어갑니다.
      ]
    },
    {
      "cell_type": "code",
      "execution_count": null,
      "metadata": {
        "id": "ZVNTOGF_t2Zo"
      },
      "outputs": [],
      "source": [
        "from fastapi import FastAPI\n",
        "from pydantic import BaseModel\n",
        "import uvicorn\n",
        "import json\n",
        "from pyngrok import ngrok\n",
        "from fastapi.middleware.cors import CORSMiddleware\n",
        "import nest_asyncio\n",
        "\n",
        "import requests\n",
        "import numpy as np\n",
        "import torch\n",
        "from pydantic import BaseModel\n",
        "from typing import List\n",
        "from diffusers import StableDiffusionPipeline, DPMSolverMultistepScheduler\n",
        "from torch import autocast\n"
      ]
    },
    {
      "cell_type": "code",
      "execution_count": null,
      "metadata": {
        "id": "k4vZz-ZzuFsV"
      },
      "outputs": [],
      "source": [
        "app = FastAPI()"
      ]
    },
    {
      "cell_type": "code",
      "execution_count": null,
      "metadata": {
        "id": "UHxb8cAFuH8s"
      },
      "outputs": [],
      "source": [
        "origins = [\"*\"]\n",
        "\n",
        "app.add_middleware(\n",
        "    CORSMiddleware,\n",
        "    allow_origins=origins,\n",
        "    allow_credentials=True,\n",
        "    allow_methods=[\"*\"],\n",
        "    allow_headers=[\"*\"],\n",
        ")"
      ]
    },
    {
      "cell_type": "code",
      "execution_count": null,
      "metadata": {
        "id": "4z8sUf-Z3hsA"
      },
      "outputs": [],
      "source": [
        "model_id = \"stabilityai/stable-diffusion-2-1\"\n",
        "pipe = StableDiffusionPipeline.from_pretrained(model_id, torch_dtype=torch.float32)\n",
        "pipe.scheduler = DPMSolverMultistepScheduler.from_config(pipe.scheduler.config)\n",
        "pipe = pipe.to(\"cuda\")"
      ]
    },
    {
      "cell_type": "code",
      "execution_count": null,
      "metadata": {
        "id": "dQDSa2E73bqR"
      },
      "outputs": [],
      "source": [
        "class Item(BaseModel):\n",
        "    prompt_id : str\n",
        "    prompt_detail : str"
      ]
    },
    {
      "cell_type": "code",
      "execution_count": null,
      "metadata": {
        "id": "QNwAKo3sOuK7"
      },
      "outputs": [],
      "source": [
        "import cv2\n",
        "import numpy as np\n",
        "\n",
        "def cartoonify(input_path, output_path):\n",
        "    # 이미지 로드\n",
        "    image = cv2.imread(input_path)\n",
        "    if image is None:\n",
        "        raise ValueError(\"이미지를 로드할 수 없습니다.\")\n",
        "\n",
        "    # 이미지 사이즈 조정\n",
        "    scaled_width = 600\n",
        "    ratio = image.shape[1] / scaled_width\n",
        "    scaled_height = int(image.shape[0] / ratio)\n",
        "    image = cv2.resize(image, (scaled_width, scaled_height))\n",
        "\n",
        "    # 블러 적용하여 노이즈 제거 : 경계선 부드러워짐\n",
        "    blurred = cv2.medianBlur(image, 5)\n",
        "\n",
        "    # 그레이스케일 변환\n",
        "    gray = cv2.cvtColor(blurred, cv2.COLOR_BGR2GRAY)\n",
        "\n",
        "    # 경계선 감지 : 두꺼운 경계선\n",
        "    edges = cv2.adaptiveThreshold(gray, 255, cv2.ADAPTIVE_THRESH_MEAN_C, cv2.THRESH_BINARY, 9, 9)\n",
        "\n",
        "    # 컬러 이미지로 변환 : 색상이 더 부드러워짐\n",
        "    color = cv2.bilateralFilter(image, 4, 250, 250)\n",
        "\n",
        "    # 경계선과 컬러 이미지를 결합하여 카툰 효과 적용\n",
        "    cartoon = cv2.bitwise_and(color, color, mask=edges)\n",
        "\n",
        "    # K-means 클러스터링을 통해 색상 감소 : 반비례 / 군집화\n",
        "    k = 10\n",
        "    reshaped = cartoon.reshape(-1, 3)\n",
        "    reshaped = np.float32(reshaped)\n",
        "\n",
        "    criteria = (cv2.TERM_CRITERIA_EPS + cv2.TERM_CRITERIA_MAX_ITER, 100, 0.1)\n",
        "    _, labels, centers = cv2.kmeans(reshaped, k, None, criteria, 10, cv2.KMEANS_RANDOM_CENTERS)\n",
        "\n",
        "    centers = np.uint8(centers)\n",
        "    segmented = centers[labels.flatten()]\n",
        "    segmented = segmented.reshape(cartoon.shape)\n",
        "\n",
        "    # 결과 이미지 저장\n",
        "    cv2.imwrite(output_path, segmented)"
      ]
    },
    {
      "cell_type": "markdown",
      "metadata": {
        "id": "PGW2o08L3cWx"
      },
      "source": [
        "# 최적화 코드"
      ]
    },
    {
      "cell_type": "code",
      "execution_count": null,
      "metadata": {
        "id": "w4Xi1nML2j-g"
      },
      "outputs": [],
      "source": [
        "global j\n",
        "j = 0\n",
        "\n",
        "@app.post(\"/test/prompt\")\n",
        "def get_prompt(items: List[Item]):\n",
        "    start_time = time.time()\n",
        "    prompt_id_list = []\n",
        "    prompt_detail_list = []\n",
        "    base64_res_list= []\n",
        "\n",
        "    for item in items:\n",
        "        prompt_id = item.prompt_id\n",
        "        prompt_detail = item.prompt_detail\n",
        "        prompt_id_list.append(prompt_id)\n",
        "        prompt_detail_list.append(prompt_detail)\n",
        "\n",
        "    #     print(\"Prompt ID:\", prompt_id)\n",
        "    #     print(\"Prompt Detail:\", prompt_detail)\n",
        "\n",
        "    # print(\"===============\")\n",
        "    # print(prompt_detail_list[1])\n",
        "    global j\n",
        "    # 이미지 생성 로직 구현\n",
        "    for i in range(len(prompt_detail_list)):\n",
        "        with autocast(\"cuda\"):\n",
        "          image = pipe(prompt_detail_list[i])[0][0]\n",
        "        img_src = \"/content/drive/MyDrive/diffusion_driven_image/test\" + str(j) + \".png\"\n",
        "        image.save(img_src)\n",
        "        output_path = \"/content/drive/MyDrive/diffusion_driven_image/b11_p1_\"+str(j)+\".png\"\n",
        "        cartoonify(img_src,output_path)\n",
        "        img = cv2.imread(output_path)\n",
        "        base64_res = encode_image_to_base64(img)\n",
        "        j += 1\n",
        "        # prompt_id[i]와 base64_res를 사용하여 요청을 보냅니다.\n",
        "        base64_res_list.append(base64_res)\n",
        "        #send_request(prompt_id[i], base64_res)\n",
        "\n",
        "    # # 생성된 이미지 전송 로직\n",
        "    # image_file = \"generated_image.jpg\"\n",
        "    # target_server_url = \"spring\"\n",
        "    # response = send_image_to_server(image_file, target_server_url)\n",
        "    # print(response.text)\n",
        "    end_time = time.time()\n",
        "    processing_time = end_time - start_time\n",
        "    print('요청 처리 시간:', processing_time)\n",
        "\n",
        "    return {\"prompt_id_list\": prompt_id_list, \"prompt_detail_list\": prompt_detail_list, \"base64_res_list\":base64_res_list}"
      ]
    },
    {
      "cell_type": "markdown",
      "metadata": {
        "id": "TvmQ15oH5Oaj"
      },
      "source": [
        "# 서버 켜기"
      ]
    },
    {
      "cell_type": "code",
      "execution_count": null,
      "metadata": {
        "colab": {
          "base_uri": "https://localhost:8080/",
          "height": 283,
          "referenced_widgets": [
            "205fd668db1b487e97275401b98a675b",
            "b0b6b614699a4142acedb7e86e82c705",
            "e937b67795f245f8a926633c24d3b5b3",
            "1550fc3f4c244acfbd9391be08134b5f",
            "9df6d55ced6047628f0c3fd7d7ed6920",
            "f3d201c6177c49a2ba2a8faee1bf0203",
            "943f2898b8b04df9a22dcfe1c2b73d14",
            "9aa48c1c814746219541ad3d66a0bc6b",
            "50e5db918a454edf8b41bda9e4fd5c19",
            "ab6f18d6d8ef45879505f60b741cfe63",
            "d74361679f1e4bd9808a81935aa6e34d",
            "f366968603eb4a7d9992752a3b8db342",
            "40cb61d3a7054c40b83e2442b5a21270",
            "c71ae70c2a674bc580164791e866f95d",
            "1dee0c9337a8451198912c7f2ed565a3",
            "18c83e545c894280a41c38331e5b2998",
            "407ed6f8e75c44cb81ef18283899540a",
            "f0c0a24c2e214b7382af2fb112f7daa4",
            "b57a5f7652a4409fa412add0b2b251f9",
            "0e7263d8ebb544ee86fe737f59e96b95",
            "01c6a0f637f24325848df66d9e1207eb",
            "f4362775c8ec43008bb628356531ea76"
          ]
        },
        "id": "VwNNWgIyuwmN",
        "outputId": "d0d3a6a2-1f3f-4682-c6b5-afaeba4aa752"
      },
      "outputs": [
        {
          "name": "stderr",
          "output_type": "stream",
          "text": [
            "WARNING:pyngrok.process.ngrok:t=2023-07-24T08:26:32+0000 lvl=warn msg=\"ngrok config file found at legacy location, move to XDG location\" xdg_path=/root/.config/ngrok/ngrok.yml legacy_path=/root/.ngrok2/ngrok.yml\n",
            "INFO:     Started server process [505]\n",
            "INFO:     Waiting for application startup.\n",
            "INFO:     Application startup complete.\n",
            "INFO:     Uvicorn running on http://127.0.0.1:3000 (Press CTRL+C to quit)\n"
          ]
        },
        {
          "name": "stdout",
          "output_type": "stream",
          "text": [
            "https://8350-34-90-181-45.ngrok-free.app\n",
            "INFO:     211.192.252.75:0 - \"GET / HTTP/1.1\" 200 OK\n",
            "INFO:     211.192.252.75:0 - \"GET /favicon.ico HTTP/1.1\" 404 Not Found\n"
          ]
        },
        {
          "data": {
            "application/vnd.jupyter.widget-view+json": {
              "model_id": "205fd668db1b487e97275401b98a675b",
              "version_major": 2,
              "version_minor": 0
            },
            "text/plain": [
              "  0%|          | 0/50 [00:00<?, ?it/s]"
            ]
          },
          "metadata": {},
          "output_type": "display_data"
        },
        {
          "data": {
            "application/vnd.jupyter.widget-view+json": {
              "model_id": "f366968603eb4a7d9992752a3b8db342",
              "version_major": 2,
              "version_minor": 0
            },
            "text/plain": [
              "  0%|          | 0/50 [00:00<?, ?it/s]"
            ]
          },
          "metadata": {},
          "output_type": "display_data"
        },
        {
          "name": "stderr",
          "output_type": "stream",
          "text": [
            "INFO:     Shutting down\n",
            "INFO:     Waiting for background tasks to complete. (CTRL+C to force quit)\n"
          ]
        }
      ],
      "source": [
        "ngrok_tunnel = ngrok.connect(3000)\n",
        "print(ngrok_tunnel.public_url)\n",
        "nest_asyncio.apply()\n",
        "uvicorn.run(app, port=3000)"
      ]
    }
  ],
  "metadata": {
    "accelerator": "GPU",
    "colab": {
      "gpuType": "V100",
      "machine_shape": "hm",
      "provenance": []
    },
    "kernelspec": {
      "display_name": "Python 3",
      "name": "python3"
    },
    "language_info": {
      "name": "python"
    },
    "widgets": {
      "application/vnd.jupyter.widget-state+json": {
        "01c6a0f637f24325848df66d9e1207eb": {
          "model_module": "@jupyter-widgets/base",
          "model_module_version": "1.2.0",
          "model_name": "LayoutModel",
          "state": {
            "_model_module": "@jupyter-widgets/base",
            "_model_module_version": "1.2.0",
            "_model_name": "LayoutModel",
            "_view_count": null,
            "_view_module": "@jupyter-widgets/base",
            "_view_module_version": "1.2.0",
            "_view_name": "LayoutView",
            "align_content": null,
            "align_items": null,
            "align_self": null,
            "border": null,
            "bottom": null,
            "display": null,
            "flex": null,
            "flex_flow": null,
            "grid_area": null,
            "grid_auto_columns": null,
            "grid_auto_flow": null,
            "grid_auto_rows": null,
            "grid_column": null,
            "grid_gap": null,
            "grid_row": null,
            "grid_template_areas": null,
            "grid_template_columns": null,
            "grid_template_rows": null,
            "height": null,
            "justify_content": null,
            "justify_items": null,
            "left": null,
            "margin": null,
            "max_height": null,
            "max_width": null,
            "min_height": null,
            "min_width": null,
            "object_fit": null,
            "object_position": null,
            "order": null,
            "overflow": null,
            "overflow_x": null,
            "overflow_y": null,
            "padding": null,
            "right": null,
            "top": null,
            "visibility": null,
            "width": null
          }
        },
        "0e7263d8ebb544ee86fe737f59e96b95": {
          "model_module": "@jupyter-widgets/controls",
          "model_module_version": "1.5.0",
          "model_name": "ProgressStyleModel",
          "state": {
            "_model_module": "@jupyter-widgets/controls",
            "_model_module_version": "1.5.0",
            "_model_name": "ProgressStyleModel",
            "_view_count": null,
            "_view_module": "@jupyter-widgets/base",
            "_view_module_version": "1.2.0",
            "_view_name": "StyleView",
            "bar_color": null,
            "description_width": ""
          }
        },
        "1550fc3f4c244acfbd9391be08134b5f": {
          "model_module": "@jupyter-widgets/controls",
          "model_module_version": "1.5.0",
          "model_name": "HTMLModel",
          "state": {
            "_dom_classes": [],
            "_model_module": "@jupyter-widgets/controls",
            "_model_module_version": "1.5.0",
            "_model_name": "HTMLModel",
            "_view_count": null,
            "_view_module": "@jupyter-widgets/controls",
            "_view_module_version": "1.5.0",
            "_view_name": "HTMLView",
            "description": "",
            "description_tooltip": null,
            "layout": "IPY_MODEL_ab6f18d6d8ef45879505f60b741cfe63",
            "placeholder": "​",
            "style": "IPY_MODEL_d74361679f1e4bd9808a81935aa6e34d",
            "value": " 0/50 [00:00&lt;?, ?it/s]"
          }
        },
        "18c83e545c894280a41c38331e5b2998": {
          "model_module": "@jupyter-widgets/base",
          "model_module_version": "1.2.0",
          "model_name": "LayoutModel",
          "state": {
            "_model_module": "@jupyter-widgets/base",
            "_model_module_version": "1.2.0",
            "_model_name": "LayoutModel",
            "_view_count": null,
            "_view_module": "@jupyter-widgets/base",
            "_view_module_version": "1.2.0",
            "_view_name": "LayoutView",
            "align_content": null,
            "align_items": null,
            "align_self": null,
            "border": null,
            "bottom": null,
            "display": null,
            "flex": null,
            "flex_flow": null,
            "grid_area": null,
            "grid_auto_columns": null,
            "grid_auto_flow": null,
            "grid_auto_rows": null,
            "grid_column": null,
            "grid_gap": null,
            "grid_row": null,
            "grid_template_areas": null,
            "grid_template_columns": null,
            "grid_template_rows": null,
            "height": null,
            "justify_content": null,
            "justify_items": null,
            "left": null,
            "margin": null,
            "max_height": null,
            "max_width": null,
            "min_height": null,
            "min_width": null,
            "object_fit": null,
            "object_position": null,
            "order": null,
            "overflow": null,
            "overflow_x": null,
            "overflow_y": null,
            "padding": null,
            "right": null,
            "top": null,
            "visibility": null,
            "width": null
          }
        },
        "1dee0c9337a8451198912c7f2ed565a3": {
          "model_module": "@jupyter-widgets/controls",
          "model_module_version": "1.5.0",
          "model_name": "HTMLModel",
          "state": {
            "_dom_classes": [],
            "_model_module": "@jupyter-widgets/controls",
            "_model_module_version": "1.5.0",
            "_model_name": "HTMLModel",
            "_view_count": null,
            "_view_module": "@jupyter-widgets/controls",
            "_view_module_version": "1.5.0",
            "_view_name": "HTMLView",
            "description": "",
            "description_tooltip": null,
            "layout": "IPY_MODEL_01c6a0f637f24325848df66d9e1207eb",
            "placeholder": "​",
            "style": "IPY_MODEL_f4362775c8ec43008bb628356531ea76",
            "value": " 0/50 [00:00&lt;?, ?it/s]"
          }
        },
        "205fd668db1b487e97275401b98a675b": {
          "model_module": "@jupyter-widgets/controls",
          "model_module_version": "1.5.0",
          "model_name": "HBoxModel",
          "state": {
            "_dom_classes": [],
            "_model_module": "@jupyter-widgets/controls",
            "_model_module_version": "1.5.0",
            "_model_name": "HBoxModel",
            "_view_count": null,
            "_view_module": "@jupyter-widgets/controls",
            "_view_module_version": "1.5.0",
            "_view_name": "HBoxView",
            "box_style": "",
            "children": [
              "IPY_MODEL_b0b6b614699a4142acedb7e86e82c705",
              "IPY_MODEL_e937b67795f245f8a926633c24d3b5b3",
              "IPY_MODEL_1550fc3f4c244acfbd9391be08134b5f"
            ],
            "layout": "IPY_MODEL_9df6d55ced6047628f0c3fd7d7ed6920"
          }
        },
        "407ed6f8e75c44cb81ef18283899540a": {
          "model_module": "@jupyter-widgets/base",
          "model_module_version": "1.2.0",
          "model_name": "LayoutModel",
          "state": {
            "_model_module": "@jupyter-widgets/base",
            "_model_module_version": "1.2.0",
            "_model_name": "LayoutModel",
            "_view_count": null,
            "_view_module": "@jupyter-widgets/base",
            "_view_module_version": "1.2.0",
            "_view_name": "LayoutView",
            "align_content": null,
            "align_items": null,
            "align_self": null,
            "border": null,
            "bottom": null,
            "display": null,
            "flex": null,
            "flex_flow": null,
            "grid_area": null,
            "grid_auto_columns": null,
            "grid_auto_flow": null,
            "grid_auto_rows": null,
            "grid_column": null,
            "grid_gap": null,
            "grid_row": null,
            "grid_template_areas": null,
            "grid_template_columns": null,
            "grid_template_rows": null,
            "height": null,
            "justify_content": null,
            "justify_items": null,
            "left": null,
            "margin": null,
            "max_height": null,
            "max_width": null,
            "min_height": null,
            "min_width": null,
            "object_fit": null,
            "object_position": null,
            "order": null,
            "overflow": null,
            "overflow_x": null,
            "overflow_y": null,
            "padding": null,
            "right": null,
            "top": null,
            "visibility": null,
            "width": null
          }
        },
        "40cb61d3a7054c40b83e2442b5a21270": {
          "model_module": "@jupyter-widgets/controls",
          "model_module_version": "1.5.0",
          "model_name": "HTMLModel",
          "state": {
            "_dom_classes": [],
            "_model_module": "@jupyter-widgets/controls",
            "_model_module_version": "1.5.0",
            "_model_name": "HTMLModel",
            "_view_count": null,
            "_view_module": "@jupyter-widgets/controls",
            "_view_module_version": "1.5.0",
            "_view_name": "HTMLView",
            "description": "",
            "description_tooltip": null,
            "layout": "IPY_MODEL_407ed6f8e75c44cb81ef18283899540a",
            "placeholder": "​",
            "style": "IPY_MODEL_f0c0a24c2e214b7382af2fb112f7daa4",
            "value": "  0%"
          }
        },
        "50e5db918a454edf8b41bda9e4fd5c19": {
          "model_module": "@jupyter-widgets/controls",
          "model_module_version": "1.5.0",
          "model_name": "ProgressStyleModel",
          "state": {
            "_model_module": "@jupyter-widgets/controls",
            "_model_module_version": "1.5.0",
            "_model_name": "ProgressStyleModel",
            "_view_count": null,
            "_view_module": "@jupyter-widgets/base",
            "_view_module_version": "1.2.0",
            "_view_name": "StyleView",
            "bar_color": null,
            "description_width": ""
          }
        },
        "943f2898b8b04df9a22dcfe1c2b73d14": {
          "model_module": "@jupyter-widgets/controls",
          "model_module_version": "1.5.0",
          "model_name": "DescriptionStyleModel",
          "state": {
            "_model_module": "@jupyter-widgets/controls",
            "_model_module_version": "1.5.0",
            "_model_name": "DescriptionStyleModel",
            "_view_count": null,
            "_view_module": "@jupyter-widgets/base",
            "_view_module_version": "1.2.0",
            "_view_name": "StyleView",
            "description_width": ""
          }
        },
        "9aa48c1c814746219541ad3d66a0bc6b": {
          "model_module": "@jupyter-widgets/base",
          "model_module_version": "1.2.0",
          "model_name": "LayoutModel",
          "state": {
            "_model_module": "@jupyter-widgets/base",
            "_model_module_version": "1.2.0",
            "_model_name": "LayoutModel",
            "_view_count": null,
            "_view_module": "@jupyter-widgets/base",
            "_view_module_version": "1.2.0",
            "_view_name": "LayoutView",
            "align_content": null,
            "align_items": null,
            "align_self": null,
            "border": null,
            "bottom": null,
            "display": null,
            "flex": null,
            "flex_flow": null,
            "grid_area": null,
            "grid_auto_columns": null,
            "grid_auto_flow": null,
            "grid_auto_rows": null,
            "grid_column": null,
            "grid_gap": null,
            "grid_row": null,
            "grid_template_areas": null,
            "grid_template_columns": null,
            "grid_template_rows": null,
            "height": null,
            "justify_content": null,
            "justify_items": null,
            "left": null,
            "margin": null,
            "max_height": null,
            "max_width": null,
            "min_height": null,
            "min_width": null,
            "object_fit": null,
            "object_position": null,
            "order": null,
            "overflow": null,
            "overflow_x": null,
            "overflow_y": null,
            "padding": null,
            "right": null,
            "top": null,
            "visibility": null,
            "width": null
          }
        },
        "9df6d55ced6047628f0c3fd7d7ed6920": {
          "model_module": "@jupyter-widgets/base",
          "model_module_version": "1.2.0",
          "model_name": "LayoutModel",
          "state": {
            "_model_module": "@jupyter-widgets/base",
            "_model_module_version": "1.2.0",
            "_model_name": "LayoutModel",
            "_view_count": null,
            "_view_module": "@jupyter-widgets/base",
            "_view_module_version": "1.2.0",
            "_view_name": "LayoutView",
            "align_content": null,
            "align_items": null,
            "align_self": null,
            "border": null,
            "bottom": null,
            "display": null,
            "flex": null,
            "flex_flow": null,
            "grid_area": null,
            "grid_auto_columns": null,
            "grid_auto_flow": null,
            "grid_auto_rows": null,
            "grid_column": null,
            "grid_gap": null,
            "grid_row": null,
            "grid_template_areas": null,
            "grid_template_columns": null,
            "grid_template_rows": null,
            "height": null,
            "justify_content": null,
            "justify_items": null,
            "left": null,
            "margin": null,
            "max_height": null,
            "max_width": null,
            "min_height": null,
            "min_width": null,
            "object_fit": null,
            "object_position": null,
            "order": null,
            "overflow": null,
            "overflow_x": null,
            "overflow_y": null,
            "padding": null,
            "right": null,
            "top": null,
            "visibility": null,
            "width": null
          }
        },
        "ab6f18d6d8ef45879505f60b741cfe63": {
          "model_module": "@jupyter-widgets/base",
          "model_module_version": "1.2.0",
          "model_name": "LayoutModel",
          "state": {
            "_model_module": "@jupyter-widgets/base",
            "_model_module_version": "1.2.0",
            "_model_name": "LayoutModel",
            "_view_count": null,
            "_view_module": "@jupyter-widgets/base",
            "_view_module_version": "1.2.0",
            "_view_name": "LayoutView",
            "align_content": null,
            "align_items": null,
            "align_self": null,
            "border": null,
            "bottom": null,
            "display": null,
            "flex": null,
            "flex_flow": null,
            "grid_area": null,
            "grid_auto_columns": null,
            "grid_auto_flow": null,
            "grid_auto_rows": null,
            "grid_column": null,
            "grid_gap": null,
            "grid_row": null,
            "grid_template_areas": null,
            "grid_template_columns": null,
            "grid_template_rows": null,
            "height": null,
            "justify_content": null,
            "justify_items": null,
            "left": null,
            "margin": null,
            "max_height": null,
            "max_width": null,
            "min_height": null,
            "min_width": null,
            "object_fit": null,
            "object_position": null,
            "order": null,
            "overflow": null,
            "overflow_x": null,
            "overflow_y": null,
            "padding": null,
            "right": null,
            "top": null,
            "visibility": null,
            "width": null
          }
        },
        "b0b6b614699a4142acedb7e86e82c705": {
          "model_module": "@jupyter-widgets/controls",
          "model_module_version": "1.5.0",
          "model_name": "HTMLModel",
          "state": {
            "_dom_classes": [],
            "_model_module": "@jupyter-widgets/controls",
            "_model_module_version": "1.5.0",
            "_model_name": "HTMLModel",
            "_view_count": null,
            "_view_module": "@jupyter-widgets/controls",
            "_view_module_version": "1.5.0",
            "_view_name": "HTMLView",
            "description": "",
            "description_tooltip": null,
            "layout": "IPY_MODEL_f3d201c6177c49a2ba2a8faee1bf0203",
            "placeholder": "​",
            "style": "IPY_MODEL_943f2898b8b04df9a22dcfe1c2b73d14",
            "value": "  0%"
          }
        },
        "b57a5f7652a4409fa412add0b2b251f9": {
          "model_module": "@jupyter-widgets/base",
          "model_module_version": "1.2.0",
          "model_name": "LayoutModel",
          "state": {
            "_model_module": "@jupyter-widgets/base",
            "_model_module_version": "1.2.0",
            "_model_name": "LayoutModel",
            "_view_count": null,
            "_view_module": "@jupyter-widgets/base",
            "_view_module_version": "1.2.0",
            "_view_name": "LayoutView",
            "align_content": null,
            "align_items": null,
            "align_self": null,
            "border": null,
            "bottom": null,
            "display": null,
            "flex": null,
            "flex_flow": null,
            "grid_area": null,
            "grid_auto_columns": null,
            "grid_auto_flow": null,
            "grid_auto_rows": null,
            "grid_column": null,
            "grid_gap": null,
            "grid_row": null,
            "grid_template_areas": null,
            "grid_template_columns": null,
            "grid_template_rows": null,
            "height": null,
            "justify_content": null,
            "justify_items": null,
            "left": null,
            "margin": null,
            "max_height": null,
            "max_width": null,
            "min_height": null,
            "min_width": null,
            "object_fit": null,
            "object_position": null,
            "order": null,
            "overflow": null,
            "overflow_x": null,
            "overflow_y": null,
            "padding": null,
            "right": null,
            "top": null,
            "visibility": null,
            "width": null
          }
        },
        "c71ae70c2a674bc580164791e866f95d": {
          "model_module": "@jupyter-widgets/controls",
          "model_module_version": "1.5.0",
          "model_name": "FloatProgressModel",
          "state": {
            "_dom_classes": [],
            "_model_module": "@jupyter-widgets/controls",
            "_model_module_version": "1.5.0",
            "_model_name": "FloatProgressModel",
            "_view_count": null,
            "_view_module": "@jupyter-widgets/controls",
            "_view_module_version": "1.5.0",
            "_view_name": "ProgressView",
            "bar_style": "",
            "description": "",
            "description_tooltip": null,
            "layout": "IPY_MODEL_b57a5f7652a4409fa412add0b2b251f9",
            "max": 50,
            "min": 0,
            "orientation": "horizontal",
            "style": "IPY_MODEL_0e7263d8ebb544ee86fe737f59e96b95",
            "value": 0
          }
        },
        "d74361679f1e4bd9808a81935aa6e34d": {
          "model_module": "@jupyter-widgets/controls",
          "model_module_version": "1.5.0",
          "model_name": "DescriptionStyleModel",
          "state": {
            "_model_module": "@jupyter-widgets/controls",
            "_model_module_version": "1.5.0",
            "_model_name": "DescriptionStyleModel",
            "_view_count": null,
            "_view_module": "@jupyter-widgets/base",
            "_view_module_version": "1.2.0",
            "_view_name": "StyleView",
            "description_width": ""
          }
        },
        "e937b67795f245f8a926633c24d3b5b3": {
          "model_module": "@jupyter-widgets/controls",
          "model_module_version": "1.5.0",
          "model_name": "FloatProgressModel",
          "state": {
            "_dom_classes": [],
            "_model_module": "@jupyter-widgets/controls",
            "_model_module_version": "1.5.0",
            "_model_name": "FloatProgressModel",
            "_view_count": null,
            "_view_module": "@jupyter-widgets/controls",
            "_view_module_version": "1.5.0",
            "_view_name": "ProgressView",
            "bar_style": "",
            "description": "",
            "description_tooltip": null,
            "layout": "IPY_MODEL_9aa48c1c814746219541ad3d66a0bc6b",
            "max": 50,
            "min": 0,
            "orientation": "horizontal",
            "style": "IPY_MODEL_50e5db918a454edf8b41bda9e4fd5c19",
            "value": 0
          }
        },
        "f0c0a24c2e214b7382af2fb112f7daa4": {
          "model_module": "@jupyter-widgets/controls",
          "model_module_version": "1.5.0",
          "model_name": "DescriptionStyleModel",
          "state": {
            "_model_module": "@jupyter-widgets/controls",
            "_model_module_version": "1.5.0",
            "_model_name": "DescriptionStyleModel",
            "_view_count": null,
            "_view_module": "@jupyter-widgets/base",
            "_view_module_version": "1.2.0",
            "_view_name": "StyleView",
            "description_width": ""
          }
        },
        "f366968603eb4a7d9992752a3b8db342": {
          "model_module": "@jupyter-widgets/controls",
          "model_module_version": "1.5.0",
          "model_name": "HBoxModel",
          "state": {
            "_dom_classes": [],
            "_model_module": "@jupyter-widgets/controls",
            "_model_module_version": "1.5.0",
            "_model_name": "HBoxModel",
            "_view_count": null,
            "_view_module": "@jupyter-widgets/controls",
            "_view_module_version": "1.5.0",
            "_view_name": "HBoxView",
            "box_style": "",
            "children": [
              "IPY_MODEL_40cb61d3a7054c40b83e2442b5a21270",
              "IPY_MODEL_c71ae70c2a674bc580164791e866f95d",
              "IPY_MODEL_1dee0c9337a8451198912c7f2ed565a3"
            ],
            "layout": "IPY_MODEL_18c83e545c894280a41c38331e5b2998"
          }
        },
        "f3d201c6177c49a2ba2a8faee1bf0203": {
          "model_module": "@jupyter-widgets/base",
          "model_module_version": "1.2.0",
          "model_name": "LayoutModel",
          "state": {
            "_model_module": "@jupyter-widgets/base",
            "_model_module_version": "1.2.0",
            "_model_name": "LayoutModel",
            "_view_count": null,
            "_view_module": "@jupyter-widgets/base",
            "_view_module_version": "1.2.0",
            "_view_name": "LayoutView",
            "align_content": null,
            "align_items": null,
            "align_self": null,
            "border": null,
            "bottom": null,
            "display": null,
            "flex": null,
            "flex_flow": null,
            "grid_area": null,
            "grid_auto_columns": null,
            "grid_auto_flow": null,
            "grid_auto_rows": null,
            "grid_column": null,
            "grid_gap": null,
            "grid_row": null,
            "grid_template_areas": null,
            "grid_template_columns": null,
            "grid_template_rows": null,
            "height": null,
            "justify_content": null,
            "justify_items": null,
            "left": null,
            "margin": null,
            "max_height": null,
            "max_width": null,
            "min_height": null,
            "min_width": null,
            "object_fit": null,
            "object_position": null,
            "order": null,
            "overflow": null,
            "overflow_x": null,
            "overflow_y": null,
            "padding": null,
            "right": null,
            "top": null,
            "visibility": null,
            "width": null
          }
        },
        "f4362775c8ec43008bb628356531ea76": {
          "model_module": "@jupyter-widgets/controls",
          "model_module_version": "1.5.0",
          "model_name": "DescriptionStyleModel",
          "state": {
            "_model_module": "@jupyter-widgets/controls",
            "_model_module_version": "1.5.0",
            "_model_name": "DescriptionStyleModel",
            "_view_count": null,
            "_view_module": "@jupyter-widgets/base",
            "_view_module_version": "1.2.0",
            "_view_name": "StyleView",
            "description_width": ""
          }
        }
      }
    }
  },
  "nbformat": 4,
  "nbformat_minor": 0
}
