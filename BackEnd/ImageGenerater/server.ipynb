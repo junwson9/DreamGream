{
  "nbformat": 4,
  "nbformat_minor": 0,
  "metadata": {
    "colab": {
      "provenance": [],
      "machine_shape": "hm",
      "gpuType": "V100"
    },
    "kernelspec": {
      "name": "python3",
      "display_name": "Python 3"
    },
    "language_info": {
      "name": "python"
    },
    "accelerator": "GPU",
    "widgets": {
      "application/vnd.jupyter.widget-state+json": {
        "205fd668db1b487e97275401b98a675b": {
          "model_module": "@jupyter-widgets/controls",
          "model_name": "HBoxModel",
          "model_module_version": "1.5.0",
          "state": {
            "_dom_classes": [],
            "_model_module": "@jupyter-widgets/controls",
            "_model_module_version": "1.5.0",
            "_model_name": "HBoxModel",
            "_view_count": null,
            "_view_module": "@jupyter-widgets/controls",
            "_view_module_version": "1.5.0",
            "_view_name": "HBoxView",
            "box_style": "",
            "children": [
              "IPY_MODEL_b0b6b614699a4142acedb7e86e82c705",
              "IPY_MODEL_e937b67795f245f8a926633c24d3b5b3",
              "IPY_MODEL_1550fc3f4c244acfbd9391be08134b5f"
            ],
            "layout": "IPY_MODEL_9df6d55ced6047628f0c3fd7d7ed6920"
          }
        },
        "b0b6b614699a4142acedb7e86e82c705": {
          "model_module": "@jupyter-widgets/controls",
          "model_name": "HTMLModel",
          "model_module_version": "1.5.0",
          "state": {
            "_dom_classes": [],
            "_model_module": "@jupyter-widgets/controls",
            "_model_module_version": "1.5.0",
            "_model_name": "HTMLModel",
            "_view_count": null,
            "_view_module": "@jupyter-widgets/controls",
            "_view_module_version": "1.5.0",
            "_view_name": "HTMLView",
            "description": "",
            "description_tooltip": null,
            "layout": "IPY_MODEL_f3d201c6177c49a2ba2a8faee1bf0203",
            "placeholder": "​",
            "style": "IPY_MODEL_943f2898b8b04df9a22dcfe1c2b73d14",
            "value": "  0%"
          }
        },
        "e937b67795f245f8a926633c24d3b5b3": {
          "model_module": "@jupyter-widgets/controls",
          "model_name": "FloatProgressModel",
          "model_module_version": "1.5.0",
          "state": {
            "_dom_classes": [],
            "_model_module": "@jupyter-widgets/controls",
            "_model_module_version": "1.5.0",
            "_model_name": "FloatProgressModel",
            "_view_count": null,
            "_view_module": "@jupyter-widgets/controls",
            "_view_module_version": "1.5.0",
            "_view_name": "ProgressView",
            "bar_style": "",
            "description": "",
            "description_tooltip": null,
            "layout": "IPY_MODEL_9aa48c1c814746219541ad3d66a0bc6b",
            "max": 50,
            "min": 0,
            "orientation": "horizontal",
            "style": "IPY_MODEL_50e5db918a454edf8b41bda9e4fd5c19",
            "value": 0
          }
        },
        "1550fc3f4c244acfbd9391be08134b5f": {
          "model_module": "@jupyter-widgets/controls",
          "model_name": "HTMLModel",
          "model_module_version": "1.5.0",
          "state": {
            "_dom_classes": [],
            "_model_module": "@jupyter-widgets/controls",
            "_model_module_version": "1.5.0",
            "_model_name": "HTMLModel",
            "_view_count": null,
            "_view_module": "@jupyter-widgets/controls",
            "_view_module_version": "1.5.0",
            "_view_name": "HTMLView",
            "description": "",
            "description_tooltip": null,
            "layout": "IPY_MODEL_ab6f18d6d8ef45879505f60b741cfe63",
            "placeholder": "​",
            "style": "IPY_MODEL_d74361679f1e4bd9808a81935aa6e34d",
            "value": " 0/50 [00:00&lt;?, ?it/s]"
          }
        },
        "9df6d55ced6047628f0c3fd7d7ed6920": {
          "model_module": "@jupyter-widgets/base",
          "model_name": "LayoutModel",
          "model_module_version": "1.2.0",
          "state": {
            "_model_module": "@jupyter-widgets/base",
            "_model_module_version": "1.2.0",
            "_model_name": "LayoutModel",
            "_view_count": null,
            "_view_module": "@jupyter-widgets/base",
            "_view_module_version": "1.2.0",
            "_view_name": "LayoutView",
            "align_content": null,
            "align_items": null,
            "align_self": null,
            "border": null,
            "bottom": null,
            "display": null,
            "flex": null,
            "flex_flow": null,
            "grid_area": null,
            "grid_auto_columns": null,
            "grid_auto_flow": null,
            "grid_auto_rows": null,
            "grid_column": null,
            "grid_gap": null,
            "grid_row": null,
            "grid_template_areas": null,
            "grid_template_columns": null,
            "grid_template_rows": null,
            "height": null,
            "justify_content": null,
            "justify_items": null,
            "left": null,
            "margin": null,
            "max_height": null,
            "max_width": null,
            "min_height": null,
            "min_width": null,
            "object_fit": null,
            "object_position": null,
            "order": null,
            "overflow": null,
            "overflow_x": null,
            "overflow_y": null,
            "padding": null,
            "right": null,
            "top": null,
            "visibility": null,
            "width": null
          }
        },
        "f3d201c6177c49a2ba2a8faee1bf0203": {
          "model_module": "@jupyter-widgets/base",
          "model_name": "LayoutModel",
          "model_module_version": "1.2.0",
          "state": {
            "_model_module": "@jupyter-widgets/base",
            "_model_module_version": "1.2.0",
            "_model_name": "LayoutModel",
            "_view_count": null,
            "_view_module": "@jupyter-widgets/base",
            "_view_module_version": "1.2.0",
            "_view_name": "LayoutView",
            "align_content": null,
            "align_items": null,
            "align_self": null,
            "border": null,
            "bottom": null,
            "display": null,
            "flex": null,
            "flex_flow": null,
            "grid_area": null,
            "grid_auto_columns": null,
            "grid_auto_flow": null,
            "grid_auto_rows": null,
            "grid_column": null,
            "grid_gap": null,
            "grid_row": null,
            "grid_template_areas": null,
            "grid_template_columns": null,
            "grid_template_rows": null,
            "height": null,
            "justify_content": null,
            "justify_items": null,
            "left": null,
            "margin": null,
            "max_height": null,
            "max_width": null,
            "min_height": null,
            "min_width": null,
            "object_fit": null,
            "object_position": null,
            "order": null,
            "overflow": null,
            "overflow_x": null,
            "overflow_y": null,
            "padding": null,
            "right": null,
            "top": null,
            "visibility": null,
            "width": null
          }
        },
        "943f2898b8b04df9a22dcfe1c2b73d14": {
          "model_module": "@jupyter-widgets/controls",
          "model_name": "DescriptionStyleModel",
          "model_module_version": "1.5.0",
          "state": {
            "_model_module": "@jupyter-widgets/controls",
            "_model_module_version": "1.5.0",
            "_model_name": "DescriptionStyleModel",
            "_view_count": null,
            "_view_module": "@jupyter-widgets/base",
            "_view_module_version": "1.2.0",
            "_view_name": "StyleView",
            "description_width": ""
          }
        },
        "9aa48c1c814746219541ad3d66a0bc6b": {
          "model_module": "@jupyter-widgets/base",
          "model_name": "LayoutModel",
          "model_module_version": "1.2.0",
          "state": {
            "_model_module": "@jupyter-widgets/base",
            "_model_module_version": "1.2.0",
            "_model_name": "LayoutModel",
            "_view_count": null,
            "_view_module": "@jupyter-widgets/base",
            "_view_module_version": "1.2.0",
            "_view_name": "LayoutView",
            "align_content": null,
            "align_items": null,
            "align_self": null,
            "border": null,
            "bottom": null,
            "display": null,
            "flex": null,
            "flex_flow": null,
            "grid_area": null,
            "grid_auto_columns": null,
            "grid_auto_flow": null,
            "grid_auto_rows": null,
            "grid_column": null,
            "grid_gap": null,
            "grid_row": null,
            "grid_template_areas": null,
            "grid_template_columns": null,
            "grid_template_rows": null,
            "height": null,
            "justify_content": null,
            "justify_items": null,
            "left": null,
            "margin": null,
            "max_height": null,
            "max_width": null,
            "min_height": null,
            "min_width": null,
            "object_fit": null,
            "object_position": null,
            "order": null,
            "overflow": null,
            "overflow_x": null,
            "overflow_y": null,
            "padding": null,
            "right": null,
            "top": null,
            "visibility": null,
            "width": null
          }
        },
        "50e5db918a454edf8b41bda9e4fd5c19": {
          "model_module": "@jupyter-widgets/controls",
          "model_name": "ProgressStyleModel",
          "model_module_version": "1.5.0",
          "state": {
            "_model_module": "@jupyter-widgets/controls",
            "_model_module_version": "1.5.0",
            "_model_name": "ProgressStyleModel",
            "_view_count": null,
            "_view_module": "@jupyter-widgets/base",
            "_view_module_version": "1.2.0",
            "_view_name": "StyleView",
            "bar_color": null,
            "description_width": ""
          }
        },
        "ab6f18d6d8ef45879505f60b741cfe63": {
          "model_module": "@jupyter-widgets/base",
          "model_name": "LayoutModel",
          "model_module_version": "1.2.0",
          "state": {
            "_model_module": "@jupyter-widgets/base",
            "_model_module_version": "1.2.0",
            "_model_name": "LayoutModel",
            "_view_count": null,
            "_view_module": "@jupyter-widgets/base",
            "_view_module_version": "1.2.0",
            "_view_name": "LayoutView",
            "align_content": null,
            "align_items": null,
            "align_self": null,
            "border": null,
            "bottom": null,
            "display": null,
            "flex": null,
            "flex_flow": null,
            "grid_area": null,
            "grid_auto_columns": null,
            "grid_auto_flow": null,
            "grid_auto_rows": null,
            "grid_column": null,
            "grid_gap": null,
            "grid_row": null,
            "grid_template_areas": null,
            "grid_template_columns": null,
            "grid_template_rows": null,
            "height": null,
            "justify_content": null,
            "justify_items": null,
            "left": null,
            "margin": null,
            "max_height": null,
            "max_width": null,
            "min_height": null,
            "min_width": null,
            "object_fit": null,
            "object_position": null,
            "order": null,
            "overflow": null,
            "overflow_x": null,
            "overflow_y": null,
            "padding": null,
            "right": null,
            "top": null,
            "visibility": null,
            "width": null
          }
        },
        "d74361679f1e4bd9808a81935aa6e34d": {
          "model_module": "@jupyter-widgets/controls",
          "model_name": "DescriptionStyleModel",
          "model_module_version": "1.5.0",
          "state": {
            "_model_module": "@jupyter-widgets/controls",
            "_model_module_version": "1.5.0",
            "_model_name": "DescriptionStyleModel",
            "_view_count": null,
            "_view_module": "@jupyter-widgets/base",
            "_view_module_version": "1.2.0",
            "_view_name": "StyleView",
            "description_width": ""
          }
        },
        "f366968603eb4a7d9992752a3b8db342": {
          "model_module": "@jupyter-widgets/controls",
          "model_name": "HBoxModel",
          "model_module_version": "1.5.0",
          "state": {
            "_dom_classes": [],
            "_model_module": "@jupyter-widgets/controls",
            "_model_module_version": "1.5.0",
            "_model_name": "HBoxModel",
            "_view_count": null,
            "_view_module": "@jupyter-widgets/controls",
            "_view_module_version": "1.5.0",
            "_view_name": "HBoxView",
            "box_style": "",
            "children": [
              "IPY_MODEL_40cb61d3a7054c40b83e2442b5a21270",
              "IPY_MODEL_c71ae70c2a674bc580164791e866f95d",
              "IPY_MODEL_1dee0c9337a8451198912c7f2ed565a3"
            ],
            "layout": "IPY_MODEL_18c83e545c894280a41c38331e5b2998"
          }
        },
        "40cb61d3a7054c40b83e2442b5a21270": {
          "model_module": "@jupyter-widgets/controls",
          "model_name": "HTMLModel",
          "model_module_version": "1.5.0",
          "state": {
            "_dom_classes": [],
            "_model_module": "@jupyter-widgets/controls",
            "_model_module_version": "1.5.0",
            "_model_name": "HTMLModel",
            "_view_count": null,
            "_view_module": "@jupyter-widgets/controls",
            "_view_module_version": "1.5.0",
            "_view_name": "HTMLView",
            "description": "",
            "description_tooltip": null,
            "layout": "IPY_MODEL_407ed6f8e75c44cb81ef18283899540a",
            "placeholder": "​",
            "style": "IPY_MODEL_f0c0a24c2e214b7382af2fb112f7daa4",
            "value": "  0%"
          }
        },
        "c71ae70c2a674bc580164791e866f95d": {
          "model_module": "@jupyter-widgets/controls",
          "model_name": "FloatProgressModel",
          "model_module_version": "1.5.0",
          "state": {
            "_dom_classes": [],
            "_model_module": "@jupyter-widgets/controls",
            "_model_module_version": "1.5.0",
            "_model_name": "FloatProgressModel",
            "_view_count": null,
            "_view_module": "@jupyter-widgets/controls",
            "_view_module_version": "1.5.0",
            "_view_name": "ProgressView",
            "bar_style": "",
            "description": "",
            "description_tooltip": null,
            "layout": "IPY_MODEL_b57a5f7652a4409fa412add0b2b251f9",
            "max": 50,
            "min": 0,
            "orientation": "horizontal",
            "style": "IPY_MODEL_0e7263d8ebb544ee86fe737f59e96b95",
            "value": 0
          }
        },
        "1dee0c9337a8451198912c7f2ed565a3": {
          "model_module": "@jupyter-widgets/controls",
          "model_name": "HTMLModel",
          "model_module_version": "1.5.0",
          "state": {
            "_dom_classes": [],
            "_model_module": "@jupyter-widgets/controls",
            "_model_module_version": "1.5.0",
            "_model_name": "HTMLModel",
            "_view_count": null,
            "_view_module": "@jupyter-widgets/controls",
            "_view_module_version": "1.5.0",
            "_view_name": "HTMLView",
            "description": "",
            "description_tooltip": null,
            "layout": "IPY_MODEL_01c6a0f637f24325848df66d9e1207eb",
            "placeholder": "​",
            "style": "IPY_MODEL_f4362775c8ec43008bb628356531ea76",
            "value": " 0/50 [00:00&lt;?, ?it/s]"
          }
        },
        "18c83e545c894280a41c38331e5b2998": {
          "model_module": "@jupyter-widgets/base",
          "model_name": "LayoutModel",
          "model_module_version": "1.2.0",
          "state": {
            "_model_module": "@jupyter-widgets/base",
            "_model_module_version": "1.2.0",
            "_model_name": "LayoutModel",
            "_view_count": null,
            "_view_module": "@jupyter-widgets/base",
            "_view_module_version": "1.2.0",
            "_view_name": "LayoutView",
            "align_content": null,
            "align_items": null,
            "align_self": null,
            "border": null,
            "bottom": null,
            "display": null,
            "flex": null,
            "flex_flow": null,
            "grid_area": null,
            "grid_auto_columns": null,
            "grid_auto_flow": null,
            "grid_auto_rows": null,
            "grid_column": null,
            "grid_gap": null,
            "grid_row": null,
            "grid_template_areas": null,
            "grid_template_columns": null,
            "grid_template_rows": null,
            "height": null,
            "justify_content": null,
            "justify_items": null,
            "left": null,
            "margin": null,
            "max_height": null,
            "max_width": null,
            "min_height": null,
            "min_width": null,
            "object_fit": null,
            "object_position": null,
            "order": null,
            "overflow": null,
            "overflow_x": null,
            "overflow_y": null,
            "padding": null,
            "right": null,
            "top": null,
            "visibility": null,
            "width": null
          }
        },
        "407ed6f8e75c44cb81ef18283899540a": {
          "model_module": "@jupyter-widgets/base",
          "model_name": "LayoutModel",
          "model_module_version": "1.2.0",
          "state": {
            "_model_module": "@jupyter-widgets/base",
            "_model_module_version": "1.2.0",
            "_model_name": "LayoutModel",
            "_view_count": null,
            "_view_module": "@jupyter-widgets/base",
            "_view_module_version": "1.2.0",
            "_view_name": "LayoutView",
            "align_content": null,
            "align_items": null,
            "align_self": null,
            "border": null,
            "bottom": null,
            "display": null,
            "flex": null,
            "flex_flow": null,
            "grid_area": null,
            "grid_auto_columns": null,
            "grid_auto_flow": null,
            "grid_auto_rows": null,
            "grid_column": null,
            "grid_gap": null,
            "grid_row": null,
            "grid_template_areas": null,
            "grid_template_columns": null,
            "grid_template_rows": null,
            "height": null,
            "justify_content": null,
            "justify_items": null,
            "left": null,
            "margin": null,
            "max_height": null,
            "max_width": null,
            "min_height": null,
            "min_width": null,
            "object_fit": null,
            "object_position": null,
            "order": null,
            "overflow": null,
            "overflow_x": null,
            "overflow_y": null,
            "padding": null,
            "right": null,
            "top": null,
            "visibility": null,
            "width": null
          }
        },
        "f0c0a24c2e214b7382af2fb112f7daa4": {
          "model_module": "@jupyter-widgets/controls",
          "model_name": "DescriptionStyleModel",
          "model_module_version": "1.5.0",
          "state": {
            "_model_module": "@jupyter-widgets/controls",
            "_model_module_version": "1.5.0",
            "_model_name": "DescriptionStyleModel",
            "_view_count": null,
            "_view_module": "@jupyter-widgets/base",
            "_view_module_version": "1.2.0",
            "_view_name": "StyleView",
            "description_width": ""
          }
        },
        "b57a5f7652a4409fa412add0b2b251f9": {
          "model_module": "@jupyter-widgets/base",
          "model_name": "LayoutModel",
          "model_module_version": "1.2.0",
          "state": {
            "_model_module": "@jupyter-widgets/base",
            "_model_module_version": "1.2.0",
            "_model_name": "LayoutModel",
            "_view_count": null,
            "_view_module": "@jupyter-widgets/base",
            "_view_module_version": "1.2.0",
            "_view_name": "LayoutView",
            "align_content": null,
            "align_items": null,
            "align_self": null,
            "border": null,
            "bottom": null,
            "display": null,
            "flex": null,
            "flex_flow": null,
            "grid_area": null,
            "grid_auto_columns": null,
            "grid_auto_flow": null,
            "grid_auto_rows": null,
            "grid_column": null,
            "grid_gap": null,
            "grid_row": null,
            "grid_template_areas": null,
            "grid_template_columns": null,
            "grid_template_rows": null,
            "height": null,
            "justify_content": null,
            "justify_items": null,
            "left": null,
            "margin": null,
            "max_height": null,
            "max_width": null,
            "min_height": null,
            "min_width": null,
            "object_fit": null,
            "object_position": null,
            "order": null,
            "overflow": null,
            "overflow_x": null,
            "overflow_y": null,
            "padding": null,
            "right": null,
            "top": null,
            "visibility": null,
            "width": null
          }
        },
        "0e7263d8ebb544ee86fe737f59e96b95": {
          "model_module": "@jupyter-widgets/controls",
          "model_name": "ProgressStyleModel",
          "model_module_version": "1.5.0",
          "state": {
            "_model_module": "@jupyter-widgets/controls",
            "_model_module_version": "1.5.0",
            "_model_name": "ProgressStyleModel",
            "_view_count": null,
            "_view_module": "@jupyter-widgets/base",
            "_view_module_version": "1.2.0",
            "_view_name": "StyleView",
            "bar_color": null,
            "description_width": ""
          }
        },
        "01c6a0f637f24325848df66d9e1207eb": {
          "model_module": "@jupyter-widgets/base",
          "model_name": "LayoutModel",
          "model_module_version": "1.2.0",
          "state": {
            "_model_module": "@jupyter-widgets/base",
            "_model_module_version": "1.2.0",
            "_model_name": "LayoutModel",
            "_view_count": null,
            "_view_module": "@jupyter-widgets/base",
            "_view_module_version": "1.2.0",
            "_view_name": "LayoutView",
            "align_content": null,
            "align_items": null,
            "align_self": null,
            "border": null,
            "bottom": null,
            "display": null,
            "flex": null,
            "flex_flow": null,
            "grid_area": null,
            "grid_auto_columns": null,
            "grid_auto_flow": null,
            "grid_auto_rows": null,
            "grid_column": null,
            "grid_gap": null,
            "grid_row": null,
            "grid_template_areas": null,
            "grid_template_columns": null,
            "grid_template_rows": null,
            "height": null,
            "justify_content": null,
            "justify_items": null,
            "left": null,
            "margin": null,
            "max_height": null,
            "max_width": null,
            "min_height": null,
            "min_width": null,
            "object_fit": null,
            "object_position": null,
            "order": null,
            "overflow": null,
            "overflow_x": null,
            "overflow_y": null,
            "padding": null,
            "right": null,
            "top": null,
            "visibility": null,
            "width": null
          }
        },
        "f4362775c8ec43008bb628356531ea76": {
          "model_module": "@jupyter-widgets/controls",
          "model_name": "DescriptionStyleModel",
          "model_module_version": "1.5.0",
          "state": {
            "_model_module": "@jupyter-widgets/controls",
            "_model_module_version": "1.5.0",
            "_model_name": "DescriptionStyleModel",
            "_view_count": null,
            "_view_module": "@jupyter-widgets/base",
            "_view_module_version": "1.2.0",
            "_view_name": "StyleView",
            "description_width": ""
          }
        }
      }
    }
  },
  "cells": [
    {
      "cell_type": "code",
      "source": [
        "!pip install streamlit -q\n",
        "!pip install pyngrok"
      ],
      "metadata": {
        "id": "6xVFYmpDsrnE"
      },
      "execution_count": null,
      "outputs": []
    },
    {
      "cell_type": "code",
      "source": [
        "!pip install fastapi uvicorn pydantic requests pyngrok nest-asyncio"
      ],
      "metadata": {
        "id": "V4Xhdtw7tAYS"
      },
      "execution_count": null,
      "outputs": []
    },
    {
      "cell_type": "code",
      "source": [
        "!pip install diffusers transformers accelerate scipy safetensors"
      ],
      "metadata": {
        "id": "2h98_eW_2sAL"
      },
      "execution_count": null,
      "outputs": []
    },
    {
      "cell_type": "code",
      "source": [
        "#!pip install gunicorn"
      ],
      "metadata": {
        "id": "bg7BZgLYlApo"
      },
      "execution_count": null,
      "outputs": []
    },
    {
      "cell_type": "code",
      "source": [
        "!pip install torch pillow"
      ],
      "metadata": {
        "id": "sPBCiH4OJIZ8"
      },
      "execution_count": null,
      "outputs": []
    },
    {
      "cell_type": "code",
      "source": [
        "from pyngrok import ngrok\n",
        "\n",
        "ngrok.set_auth_token('2Shc5Xi1V1t2TqXX5RkZsntEVOS_2EbpZ4quiWLkj3AsjJGeA')"
      ],
      "metadata": {
        "id": "WCD7u_A8s30F",
        "colab": {
          "base_uri": "https://localhost:8080/"
        },
        "outputId": "30eb4cdb-9cf6-48cd-9169-dae0d4fce859"
      },
      "execution_count": null,
      "outputs": [
        {
          "output_type": "stream",
          "name": "stdout",
          "text": []
        }
      ]
    },
    {
      "cell_type": "code",
      "source": [
        "from fastapi import FastAPI\n",
        "from pydantic import BaseModel\n",
        "import uvicorn\n",
        "import json\n",
        "from pyngrok import ngrok\n",
        "from fastapi.middleware.cors import CORSMiddleware\n",
        "import nest_asyncio\n",
        "\n",
        "import requests\n",
        "import numpy as np\n",
        "import torch\n",
        "from pydantic import BaseModel\n",
        "from typing import List\n",
        "from diffusers import StableDiffusionPipeline, DPMSolverMultistepScheduler\n",
        "from torch import autocast\n"
      ],
      "metadata": {
        "id": "ZVNTOGF_t2Zo"
      },
      "execution_count": null,
      "outputs": []
    },
    {
      "cell_type": "code",
      "source": [
        "app = FastAPI()"
      ],
      "metadata": {
        "id": "k4vZz-ZzuFsV"
      },
      "execution_count": null,
      "outputs": []
    },
    {
      "cell_type": "code",
      "source": [
        "origins = [\"*\"]\n",
        "\n",
        "app.add_middleware(\n",
        "    CORSMiddleware,\n",
        "    allow_origins=origins,\n",
        "    allow_credentials=True,\n",
        "    allow_methods=[\"*\"],\n",
        "    allow_headers=[\"*\"],\n",
        ")"
      ],
      "metadata": {
        "id": "UHxb8cAFuH8s"
      },
      "execution_count": null,
      "outputs": []
    },
    {
      "cell_type": "code",
      "source": [
        "model_id = \"stabilityai/stable-diffusion-2-1\"\n",
        "pipe = StableDiffusionPipeline.from_pretrained(model_id, torch_dtype=torch.float32)\n",
        "pipe.scheduler = DPMSolverMultistepScheduler.from_config(pipe.scheduler.config)\n",
        "pipe = pipe.to(\"cuda\")"
      ],
      "metadata": {
        "id": "4z8sUf-Z3hsA"
      },
      "execution_count": null,
      "outputs": []
    },
    {
      "cell_type": "code",
      "source": [
        "class Item(BaseModel):\n",
        "    prompt_id : str\n",
        "    prompt_detail : str"
      ],
      "metadata": {
        "id": "dQDSa2E73bqR"
      },
      "execution_count": null,
      "outputs": []
    },
    {
      "cell_type": "code",
      "source": [
        "import cv2\n",
        "import numpy as np\n",
        "\n",
        "def cartoonify(input_path, output_path):\n",
        "    # 이미지 로드\n",
        "    image = cv2.imread(input_path)\n",
        "    if image is None:\n",
        "        raise ValueError(\"이미지를 로드할 수 없습니다.\")\n",
        "\n",
        "    # 이미지 사이즈 조정\n",
        "    scaled_width = 600\n",
        "    ratio = image.shape[1] / scaled_width\n",
        "    scaled_height = int(image.shape[0] / ratio)\n",
        "    image = cv2.resize(image, (scaled_width, scaled_height))\n",
        "\n",
        "    # 블러 적용하여 노이즈 제거 : 경계선 부드러워짐\n",
        "    blurred = cv2.medianBlur(image, 5)\n",
        "\n",
        "    # 그레이스케일 변환\n",
        "    gray = cv2.cvtColor(blurred, cv2.COLOR_BGR2GRAY)\n",
        "\n",
        "    # 경계선 감지 : 두꺼운 경계선\n",
        "    edges = cv2.adaptiveThreshold(gray, 255, cv2.ADAPTIVE_THRESH_MEAN_C, cv2.THRESH_BINARY, 9, 9)\n",
        "\n",
        "    # 컬러 이미지로 변환 : 색상이 더 부드러워짐\n",
        "    color = cv2.bilateralFilter(image, 4, 250, 250)\n",
        "\n",
        "    # 경계선과 컬러 이미지를 결합하여 카툰 효과 적용\n",
        "    cartoon = cv2.bitwise_and(color, color, mask=edges)\n",
        "\n",
        "    # K-means 클러스터링을 통해 색상 감소 : 반비례 / 군집화\n",
        "    k = 10\n",
        "    reshaped = cartoon.reshape(-1, 3)\n",
        "    reshaped = np.float32(reshaped)\n",
        "\n",
        "    criteria = (cv2.TERM_CRITERIA_EPS + cv2.TERM_CRITERIA_MAX_ITER, 100, 0.1)\n",
        "    _, labels, centers = cv2.kmeans(reshaped, k, None, criteria, 10, cv2.KMEANS_RANDOM_CENTERS)\n",
        "\n",
        "    centers = np.uint8(centers)\n",
        "    segmented = centers[labels.flatten()]\n",
        "    segmented = segmented.reshape(cartoon.shape)\n",
        "\n",
        "    # 결과 이미지 저장\n",
        "    cv2.imwrite(output_path, segmented)"
      ],
      "metadata": {
        "id": "QNwAKo3sOuK7"
      },
      "execution_count": null,
      "outputs": []
    },
    {
      "cell_type": "code",
      "source": [
        "import cv2\n",
        "import base64\n",
        "import numpy as np\n",
        "\n",
        "def encode_image_to_base64(image):\n",
        "    # 이미지를 numpy 배열로 변환합니다.\n",
        "    image_np = np.array(image)\n",
        "\n",
        "    # 이미지를 인코딩하여 base64 문자열로 변환합니다.\n",
        "    _, encoded_image = cv2.imencode('.png', image_np)\n",
        "    base64_image = base64.b64encode(encoded_image.tobytes()).decode('utf-8')\n",
        "\n",
        "    return base64_image\n"
      ],
      "metadata": {
        "id": "MYP2lveUQKqu"
      },
      "execution_count": null,
      "outputs": []
    },
    {
      "cell_type": "code",
      "source": [
        "@app.get(\"/\")\n",
        "def main():\n",
        "  return \"main\"\n",
        "\n",
        "@app.get(\"/cnt1\")\n",
        "def test():\n",
        "  return 1\n",
        "\n",
        "@app.get(\"/cnt1/cnt2\")\n",
        "def test1():\n",
        "  return 2"
      ],
      "metadata": {
        "id": "Tzday-j8uJwB"
      },
      "execution_count": null,
      "outputs": []
    },
    {
      "cell_type": "markdown",
      "source": [
        "# 최적화 코드"
      ],
      "metadata": {
        "id": "PGW2o08L3cWx"
      }
    },
    {
      "cell_type": "code",
      "source": [
        "global j\n",
        "j = 0\n",
        "\n",
        "@app.post(\"/test/prompt\")\n",
        "def get_prompt(items: List[Item]):\n",
        "    start_time = time.time()\n",
        "    prompt_id_list = []\n",
        "    prompt_detail_list = []\n",
        "    base64_res_list= []\n",
        "\n",
        "    for item in items:\n",
        "        prompt_id = item.prompt_id\n",
        "        prompt_detail = item.prompt_detail\n",
        "        prompt_id_list.append(prompt_id)\n",
        "        prompt_detail_list.append(prompt_detail)\n",
        "\n",
        "    #     print(\"Prompt ID:\", prompt_id)\n",
        "    #     print(\"Prompt Detail:\", prompt_detail)\n",
        "\n",
        "    # print(\"===============\")\n",
        "    # print(prompt_detail_list[1])\n",
        "    global j\n",
        "    # 이미지 생성 로직 구현\n",
        "    for i in range(len(prompt_detail_list)):\n",
        "        with autocast(\"cuda\"):\n",
        "          image = pipe(prompt_detail_list[i])[0][0]\n",
        "        img_src = \"/content/drive/MyDrive/diffusion_driven_image/test\" + str(j) + \".png\"\n",
        "        image.save(img_src)\n",
        "        output_path = \"/content/drive/MyDrive/diffusion_driven_image/b11_p1_\"+str(j)+\".png\"\n",
        "        cartoonify(img_src,output_path)\n",
        "        img = cv2.imread(output_path)\n",
        "        base64_res = encode_image_to_base64(img)\n",
        "        j += 1\n",
        "        # prompt_id[i]와 base64_res를 사용하여 요청을 보냅니다.\n",
        "        base64_res_list.append(base64_res)\n",
        "        #send_request(prompt_id[i], base64_res)\n",
        "\n",
        "    # # 생성된 이미지 전송 로직\n",
        "    # image_file = \"generated_image.jpg\"\n",
        "    # target_server_url = \"spring\"\n",
        "    # response = send_image_to_server(image_file, target_server_url)\n",
        "    # print(response.text)\n",
        "    end_time = time.time()\n",
        "    processing_time = end_time - start_time\n",
        "    print('요청 처리 시간:', processing_time)\n",
        "\n",
        "    return {\"prompt_id_list\": prompt_id_list, \"prompt_detail_list\": prompt_detail_list, \"base64_res_list\":base64_res_list}"
      ],
      "metadata": {
        "id": "w4Xi1nML2j-g"
      },
      "execution_count": null,
      "outputs": []
    },
    {
      "cell_type": "markdown",
      "source": [
        "# 기존 코드"
      ],
      "metadata": {
        "id": "W3LxGdAU3YWA"
      }
    },
    {
      "cell_type": "code",
      "source": [
        "global j\n",
        "j = 0\n",
        "\n",
        "@app.post(\"/test/prompt\")\n",
        "def get_prompt(items: List[Item]):\n",
        "    start_time = time.time()\n",
        "    prompt_id_list = []\n",
        "    prompt_detail_list = []\n",
        "    base64_res_list= []\n",
        "\n",
        "    for item in items:\n",
        "        prompt_id = item.prompt_id\n",
        "        prompt_detail = item.prompt_detail\n",
        "        prompt_id_list.append(prompt_id)\n",
        "        prompt_detail_list.append(prompt_detail)\n",
        "\n",
        "    #     print(\"Prompt ID:\", prompt_id)\n",
        "    #     print(\"Prompt Detail:\", prompt_detail)\n",
        "\n",
        "    # print(\"===============\")\n",
        "    # print(prompt_detail_list[1])\n",
        "    global j\n",
        "    # 이미지 생성 로직 구현\n",
        "    for i in range(len(prompt_detail_list)):\n",
        "        diffusion_output = pipe(prompt_detail_list[i])  # Assuming pipe() returns 'StableDiffusionPipelineOutput' object\n",
        "        image = diffusion_output.as_image()\n",
        "        img_src = \"/content/drive/MyDrive/diffusion_driven_image/test\" + str(j) + \".png\"\n",
        "        image.save(img_src)\n",
        "        output_path = \"/content/drive/MyDrive/diffusion_driven_image/b11_p1_\"+str(j)+\".png\"\n",
        "        cartoonify(img_src,output_path)\n",
        "        img = cv2.imread(output_path)\n",
        "        base64_res = encode_image_to_base64(img)\n",
        "        j += 1\n",
        "        # prompt_id[i]와 base64_res를 사용하여 요청을 보냅니다.\n",
        "        base64_res_list.append(base64_res)\n",
        "        #send_request(prompt_id[i], base64_res)\n",
        "\n",
        "    # # 생성된 이미지 전송 로직\n",
        "    # image_file = \"generated_image.jpg\"\n",
        "    # target_server_url = \"spring\"\n",
        "    # response = send_image_to_server(image_file, target_server_url)\n",
        "    # print(response.text)\n",
        "    end_time = time.time()\n",
        "    processing_time = end_time - start_time\n",
        "    print('요청 처리 시간:', processing_time)\n",
        "\n",
        "    return {\"prompt_id_list\": prompt_id_list, \"prompt_detail_list\": prompt_detail_list, \"base64_res_list\":base64_res_list}"
      ],
      "metadata": {
        "id": "N87EPyfK3MH2"
      },
      "execution_count": null,
      "outputs": []
    },
    {
      "cell_type": "markdown",
      "source": [
        "# 스레드 처리 시도"
      ],
      "metadata": {
        "id": "E5thQ_Nk5JMn"
      }
    },
    {
      "cell_type": "code",
      "source": [
        "# gpu 3개로 잘라서 동시 처리\n",
        "# 아예 안됨\n",
        "\n",
        "import concurrent.futures\n",
        "\n",
        "@app.post(\"/test/prompt\")\n",
        "def get_prompt(items: List[Item]):\n",
        "    start_time = time.time()\n",
        "    prompt_id_list = []\n",
        "    prompt_detail_list = []\n",
        "    base64_res_list= []\n",
        "\n",
        "    for item in items:\n",
        "        prompt_id = item.prompt_id\n",
        "        prompt_detail = item.prompt_detail\n",
        "        prompt_id_list.append(prompt_id)\n",
        "        prompt_detail_list.append(prompt_detail)\n",
        "\n",
        "        print(\"Prompt ID:\", prompt_id)\n",
        "        print(\"Prompt Detail:\", prompt_detail)\n",
        "\n",
        "    print(\"===============\")\n",
        "    print(prompt_detail_list[1])\n",
        "\n",
        "    def generate_image(prompt_detail):\n",
        "        image = pipe(prompt_detail).images[0]\n",
        "        img_src = \"/content/drive/MyDrive/diffusion_driven_image/test.png\"\n",
        "        image.save(img_src)\n",
        "        output_path = \"/content/drive/MyDrive/diffusion_driven_image/b11_p1.png\"\n",
        "        cartoonify(img_src, output_path)\n",
        "        img = cv2.imread(output_path)\n",
        "        base64_res = encode_image_to_base64(img)\n",
        "        return base64_res\n",
        "\n",
        "    # 이미지 생성 작업을 병렬\n",
        "    with concurrent.futures.ThreadPoolExecutor() as executor:\n",
        "        future_to_prompt = {executor.submit(generate_image, prompt): prompt for prompt in prompt_detail_list}\n",
        "        for future in concurrent.futures.as_completed(future_to_prompt):\n",
        "            prompt = future_to_prompt[future]\n",
        "            try:\n",
        "                base64_res = future.result()\n",
        "                base64_res_list.append(base64_res)\n",
        "            except Exception as exc:\n",
        "                print(f\"Image generation for prompt '{prompt}' generated an exception: {exc}\")\n",
        "\n",
        "    end_time = time.time()\n",
        "    processing_time = end_time - start_time\n",
        "    print('요청 처리 시간:', processing_time)\n",
        "\n",
        "    return {\"prompt_id_list\": prompt_id_list, \"prompt_detail_list\": prompt_detail_list, \"base64_res_list\": base64_res_list}\n"
      ],
      "metadata": {
        "id": "O1OlSTEnZmDB"
      },
      "execution_count": null,
      "outputs": []
    },
    {
      "cell_type": "markdown",
      "source": [
        "# 서버 켜기"
      ],
      "metadata": {
        "id": "TvmQ15oH5Oaj"
      }
    },
    {
      "cell_type": "code",
      "source": [
        "ngrok_tunnel = ngrok.connect(3000)\n",
        "print(ngrok_tunnel.public_url)\n",
        "nest_asyncio.apply()\n",
        "uvicorn.run(app, port=3000)"
      ],
      "metadata": {
        "colab": {
          "base_uri": "https://localhost:8080/",
          "height": 283,
          "referenced_widgets": [
            "205fd668db1b487e97275401b98a675b",
            "b0b6b614699a4142acedb7e86e82c705",
            "e937b67795f245f8a926633c24d3b5b3",
            "1550fc3f4c244acfbd9391be08134b5f",
            "9df6d55ced6047628f0c3fd7d7ed6920",
            "f3d201c6177c49a2ba2a8faee1bf0203",
            "943f2898b8b04df9a22dcfe1c2b73d14",
            "9aa48c1c814746219541ad3d66a0bc6b",
            "50e5db918a454edf8b41bda9e4fd5c19",
            "ab6f18d6d8ef45879505f60b741cfe63",
            "d74361679f1e4bd9808a81935aa6e34d",
            "f366968603eb4a7d9992752a3b8db342",
            "40cb61d3a7054c40b83e2442b5a21270",
            "c71ae70c2a674bc580164791e866f95d",
            "1dee0c9337a8451198912c7f2ed565a3",
            "18c83e545c894280a41c38331e5b2998",
            "407ed6f8e75c44cb81ef18283899540a",
            "f0c0a24c2e214b7382af2fb112f7daa4",
            "b57a5f7652a4409fa412add0b2b251f9",
            "0e7263d8ebb544ee86fe737f59e96b95",
            "01c6a0f637f24325848df66d9e1207eb",
            "f4362775c8ec43008bb628356531ea76"
          ]
        },
        "id": "VwNNWgIyuwmN",
        "outputId": "d0d3a6a2-1f3f-4682-c6b5-afaeba4aa752"
      },
      "execution_count": null,
      "outputs": [
        {
          "output_type": "stream",
          "name": "stderr",
          "text": [
            "WARNING:pyngrok.process.ngrok:t=2023-07-24T08:26:32+0000 lvl=warn msg=\"ngrok config file found at legacy location, move to XDG location\" xdg_path=/root/.config/ngrok/ngrok.yml legacy_path=/root/.ngrok2/ngrok.yml\n",
            "INFO:     Started server process [505]\n",
            "INFO:     Waiting for application startup.\n",
            "INFO:     Application startup complete.\n",
            "INFO:     Uvicorn running on http://127.0.0.1:3000 (Press CTRL+C to quit)\n"
          ]
        },
        {
          "output_type": "stream",
          "name": "stdout",
          "text": [
            "https://8350-34-90-181-45.ngrok-free.app\n",
            "INFO:     211.192.252.75:0 - \"GET / HTTP/1.1\" 200 OK\n",
            "INFO:     211.192.252.75:0 - \"GET /favicon.ico HTTP/1.1\" 404 Not Found\n"
          ]
        },
        {
          "output_type": "display_data",
          "data": {
            "text/plain": [
              "  0%|          | 0/50 [00:00<?, ?it/s]"
            ],
            "application/vnd.jupyter.widget-view+json": {
              "version_major": 2,
              "version_minor": 0,
              "model_id": "205fd668db1b487e97275401b98a675b"
            }
          },
          "metadata": {}
        },
        {
          "output_type": "display_data",
          "data": {
            "text/plain": [
              "  0%|          | 0/50 [00:00<?, ?it/s]"
            ],
            "application/vnd.jupyter.widget-view+json": {
              "version_major": 2,
              "version_minor": 0,
              "model_id": "f366968603eb4a7d9992752a3b8db342"
            }
          },
          "metadata": {}
        },
        {
          "output_type": "stream",
          "name": "stderr",
          "text": [
            "INFO:     Shutting down\n",
            "INFO:     Waiting for background tasks to complete. (CTRL+C to force quit)\n"
          ]
        }
      ]
    },
    {
      "cell_type": "markdown",
      "source": [
        "# 사진 업로드 url 만들기"
      ],
      "metadata": {
        "id": "hs74uflGgeyZ"
      }
    },
    {
      "cell_type": "code",
      "source": [
        "from fastapi import UploadFile, File, FastAPI\n",
        "import os\n",
        "\n",
        "app = FastAPI()\n",
        "\n",
        "BASE_DIR = os.path.dirname(os.path.dirname(os.path.abspath(__file__)))\n",
        "STATIC_DIR = os.path.join(BASE_DIR,'static/')\n",
        "IMG_DIR = os.path.join(STATIC_DIR,'images/')\n",
        "SERVER_IMG_DIR = os.path.join('http://localhost:8000/','static/','images/')\n",
        "\n",
        "@app.post('/upload-images')\n",
        "async def upload_board(in_files: List[UploadFile] = File(...)):\n",
        "    file_urls=[]\n",
        "    for file in in_files:\n",
        "        currentTime = datetime.datetime.now().strftime(\"%Y%m%d%H%M%S\")\n",
        "        saved_file_name = ''.join([currentTime,secrets.token_hex(16)])\n",
        "        print(saved_file_name)\n",
        "        file_location = os.path.join(IMG_DIR,saved_file_name)\n",
        "        with open(file_location, \"wb+\") as file_object:\n",
        "            file_object.write(file.file.read())\n",
        "        file_urls.append(SERVER_IMG_DIR+saved_file_name)\n",
        "    result={'fileUrls' : file_urls}\n",
        "    return result"
      ],
      "metadata": {
        "id": "no8mJDz4geY1"
      },
      "execution_count": null,
      "outputs": []
    },
    {
      "cell_type": "code",
      "source": [
        "global xx\n",
        "xx = 1\n",
        "\n",
        "def test():\n",
        "  global xx\n",
        "  for i in range(5):\n",
        "    print(xx)\n",
        "    xx += 1\n",
        "\n",
        "test()\n",
        "\n",
        "print(xx)"
      ],
      "metadata": {
        "colab": {
          "base_uri": "https://localhost:8080/"
        },
        "id": "dhMpMswOiGJP",
        "outputId": "63a27812-3fd0-492a-cab5-78d5e378b219"
      },
      "execution_count": null,
      "outputs": [
        {
          "output_type": "stream",
          "name": "stdout",
          "text": [
            "1\n",
            "2\n",
            "3\n",
            "4\n",
            "5\n",
            "6\n"
          ]
        }
      ]
    },
    {
      "cell_type": "code",
      "source": [
        "from fastapi import UploadFile, File, FastAPI\n",
        "import os\n",
        "\n",
        "global j\n",
        "j = 0\n",
        "\n",
        "app = FastAPI()\n",
        "\n",
        "@app.post(\"/test/prompt\")\n",
        "def get_prompt(items: List[Item]):\n",
        "    start_time = time.time()\n",
        "    prompt_id_list = []\n",
        "    prompt_detail_list = []\n",
        "    base64_res_list= []\n",
        "\n",
        "    for item in items:\n",
        "        prompt_id = item.prompt_id\n",
        "        prompt_detail = item.prompt_detail\n",
        "        prompt_id_list.append(prompt_id)\n",
        "        prompt_detail_list.append(prompt_detail)\n",
        "\n",
        "    #     print(\"Prompt ID:\", prompt_id)\n",
        "    #     print(\"Prompt Detail:\", prompt_detail)\n",
        "\n",
        "    # print(\"===============\")\n",
        "    # print(prompt_detail_list[1])\n",
        "    global j\n",
        "    # 이미지 생성 로직 구현\n",
        "    file_urls = []\n",
        "    server_img_dir = os.path.join('http://localhost:8000/','test/','images/')\n",
        "    for i in range(len(prompt_detail_list)):\n",
        "        with autocast(\"cuda\"):\n",
        "          image = pipe(prompt_detail_list[i])[0][0]\n",
        "        img_src = \"/content/drive/MyDrive/diffusion_driven_image/test\" + str(j) + \".png\"\n",
        "        image.save(img_src)\n",
        "        output_path = \"/content/drive/MyDrive/diffusion_driven_image/b11_p1_\"+str(j)+\".png\"\n",
        "        cartoonify(img_src,output_path)\n",
        "        img = cv2.imread(output_path)\n",
        "\n",
        "        j += 1\n",
        "\n",
        "        with open(output_path,\"wb+\") as file_object:\n",
        "          file_object.wrtie(output_path.file.read())\n",
        "\n",
        "        file_urls.append(server_img_dir + str(j))\n",
        "\n",
        "        # base64_res = encode_image_to_base64(img)\n",
        "        # base64_res_list.append(base64_res)\n",
        "\n",
        "\n",
        "    # # 생성된 이미지 전송 로직\n",
        "    # image_file = \"generated_image.jpg\"\n",
        "    # target_server_url = \"spring\"\n",
        "    # response = send_image_to_server(image_file, target_server_url)\n",
        "    # print(response.text)\n",
        "    end_time = time.time()\n",
        "    processing_time = end_time - start_time\n",
        "    print('요청 처리 시간:', processing_time)\n",
        "    print(file_urls)\n",
        "\n",
        "    return {\"prompt_id_list\": prompt_id_list, \"prompt_detail_list\": prompt_detail_list, \"base64_res_list\":base64_res_list}"
      ],
      "metadata": {
        "id": "QcL11o2liqlU"
      },
      "execution_count": null,
      "outputs": []
    },
    {
      "cell_type": "code",
      "source": [
        "import uvicorn\n",
        "\n",
        "if __name__ == \"__main__\":\n",
        "    uvicorn.run(app, port=8000)\n"
      ],
      "metadata": {
        "colab": {
          "base_uri": "https://localhost:8080/"
        },
        "id": "mcTmYOm8kdy6",
        "outputId": "1b791db1-d01a-4c54-fea0-3e531a54fca5"
      },
      "execution_count": null,
      "outputs": [
        {
          "output_type": "stream",
          "name": "stderr",
          "text": [
            "INFO:     Started server process [923]\n",
            "INFO:     Waiting for application startup.\n",
            "INFO:     Application startup complete.\n",
            "INFO:     Uvicorn running on http://127.0.0.1:8000 (Press CTRL+C to quit)\n",
            "INFO:     Shutting down\n",
            "INFO:     Waiting for application shutdown.\n",
            "INFO:     Application shutdown complete.\n",
            "INFO:     Finished server process [923]\n"
          ]
        }
      ]
    }
  ]
}